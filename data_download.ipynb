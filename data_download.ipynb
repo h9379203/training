{
  "nbformat": 4,
  "nbformat_minor": 0,
  "metadata": {
    "colab": {
      "provenance": [],
      "collapsed_sections": [],
      "authorship_tag": "ABX9TyOfaBuNfU7d3nYp0HZxJ6bN",
      "include_colab_link": true
    },
    "kernelspec": {
      "name": "python3",
      "display_name": "Python 3"
    },
    "language_info": {
      "name": "python"
    }
  },
  "cells": [
    {
      "cell_type": "markdown",
      "metadata": {
        "id": "view-in-github",
        "colab_type": "text"
      },
      "source": [
        "<a href=\"https://colab.research.google.com/github/h9379203/training/blob/main/data_download.ipynb\" target=\"_parent\"><img src=\"https://colab.research.google.com/assets/colab-badge.svg\" alt=\"Open In Colab\"/></a>"
      ]
    },
    {
      "cell_type": "markdown",
      "source": [
        "파일 저장"
      ],
      "metadata": {
        "id": "VwupQ6-hiJIp"
      }
    },
    {
      "cell_type": "code",
      "source": [
        "import urllib.request\n",
        "\n",
        "url = \"http://uta.pw/shodou/img/28/214.png\"\n",
        "savename = \"test.png\"\n",
        "\n",
        "urllib.request.urlretrieve(url, savename)\n",
        "print(\"저장되었습니다...!\")"
      ],
      "metadata": {
        "colab": {
          "base_uri": "https://localhost:8080/"
        },
        "id": "zcDHG06YiLrW",
        "outputId": "6a6f4e29-103b-43fb-8fb4-51493f606ca8"
      },
      "execution_count": 11,
      "outputs": [
        {
          "output_type": "stream",
          "name": "stdout",
          "text": [
            "저장되었습니다...!\n"
          ]
        }
      ]
    },
    {
      "cell_type": "code",
      "source": [
        "import urllib.request\n",
        "\n",
        "url = \"http://uta.pw/shodou/img/28/214.png\"\n",
        "savename = \"test.png\"\n",
        "\n",
        "mem = urllib.request.urlopen(url).read()\n",
        "\n",
        "with open(savename, mode=\"wb\") as f:\n",
        "  f.write(mem)\n",
        "  print(\"저장되었습니다.\")"
      ],
      "metadata": {
        "colab": {
          "base_uri": "https://localhost:8080/"
        },
        "id": "bipeB9gYiurf",
        "outputId": "4c2ca7e2-8dbd-48a6-ea83-c6b55ed9ae28"
      },
      "execution_count": 13,
      "outputs": [
        {
          "output_type": "stream",
          "name": "stdout",
          "text": [
            "저장되었습니다.\n"
          ]
        }
      ]
    },
    {
      "cell_type": "markdown",
      "source": [
        "클라이언트 접속 정보 출력"
      ],
      "metadata": {
        "id": "KBO0RsrvhoeQ"
      }
    },
    {
      "cell_type": "code",
      "source": [
        "import urllib.request\n",
        "\n",
        "url = \"http://api.aoikujira.com/ip/ini\"\n",
        "res = urllib.request.urlopen(url)\n",
        "data = res.read()\n",
        "\n",
        "text = data.decode(\"utf-8\")\n",
        "print(text)"
      ],
      "metadata": {
        "colab": {
          "base_uri": "https://localhost:8080/"
        },
        "id": "jgooS2X_hDVl",
        "outputId": "ea19a1fe-7e28-4971-b50a-34554a547d7b"
      },
      "execution_count": 10,
      "outputs": [
        {
          "output_type": "stream",
          "name": "stdout",
          "text": [
            "[ip]\n",
            "API_URI=http://api.aoikujira.com/ip/get.php\n",
            "REMOTE_ADDR=34.139.91.112\n",
            "REMOTE_HOST=112.91.139.34.bc.googleusercontent.com\n",
            "REMOTE_PORT=47976\n",
            "HTTP_HOST=api.aoikujira.com\n",
            "HTTP_USER_AGENT=Python-urllib/3.7\n",
            "HTTP_ACCEPT_LANGUAGE=\n",
            "HTTP_ACCEPT_CHARSET=\n",
            "SERVER_PORT=80\n",
            "FORMAT=ini\n",
            "\n",
            "\n"
          ]
        }
      ]
    }
  ]
}